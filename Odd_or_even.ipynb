{
 "cells": [
  {
   "cell_type": "code",
   "execution_count": null,
   "metadata": {},
   "outputs": [],
   "source": [
    "for I in range(9999999999999999999999999999999999999999999999999*99999999999999999999999999999999999999999999999999): \n",
    "    N=int(input('what is your number that you want to find out if it is even or odd '))\n",
    "    if N%2==0: \n",
    "        print('Your number is even')\n",
    "    else: \n",
    "        print('Your number is odd')"
   ]
  }
 ],
 "metadata": {
  "kernelspec": {
   "display_name": "Python 3",
   "language": "python",
   "name": "python3"
  },
  "language_info": {
   "codemirror_mode": {
    "name": "ipython",
    "version": 3
   },
   "file_extension": ".py",
   "mimetype": "text/x-python",
   "name": "python",
   "nbconvert_exporter": "python",
   "pygments_lexer": "ipython3",
   "version": "3.7.6"
  }
 },
 "nbformat": 4,
 "nbformat_minor": 4
}
